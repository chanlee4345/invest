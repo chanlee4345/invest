{
  "nbformat": 4,
  "nbformat_minor": 0,
  "metadata": {
    "colab": {
      "name": "bt_사계절시즌제.ipynb",
      "provenance": [],
      "collapsed_sections": [],
      "authorship_tag": "ABX9TyMEWIOXw+Dllr4aECOb3VIY",
      "include_colab_link": true
    },
    "kernelspec": {
      "name": "python3",
      "display_name": "Python 3"
    },
    "language_info": {
      "name": "python"
    }
  },
  "cells": [
    {
      "cell_type": "markdown",
      "metadata": {
        "id": "view-in-github",
        "colab_type": "text"
      },
      "source": [
        "<a href=\"https://colab.research.google.com/github/chanlee4345/invest/blob/main/bt_%EC%82%AC%EA%B3%84%EC%A0%88%EC%8B%9C%EC%A6%8C%EC%A0%9C.ipynb\" target=\"_parent\"><img src=\"https://colab.research.google.com/assets/colab-badge.svg\" alt=\"Open In Colab\"/></a>"
      ]
    },
    {
      "cell_type": "code",
      "execution_count": 1,
      "metadata": {
        "colab": {
          "base_uri": "https://localhost:8080/"
        },
        "id": "3JPySo57S0mX",
        "outputId": "12b6d06f-dbbd-4a89-bdab-ff2c8a1fac23"
      },
      "outputs": [
        {
          "output_type": "stream",
          "name": "stdout",
          "text": [
            "Looking in indexes: https://pypi.org/simple, https://us-python.pkg.dev/colab-wheels/public/simple/\n",
            "Collecting bt\n",
            "  Downloading bt-0.2.9.tar.gz (2.7 MB)\n",
            "\u001b[K     |████████████████████████████████| 2.7 MB 2.7 MB/s \n",
            "\u001b[?25h  Installing build dependencies ... \u001b[?25l\u001b[?25hdone\n",
            "  Getting requirements to build wheel ... \u001b[?25l\u001b[?25hdone\n",
            "    Preparing wheel metadata ... \u001b[?25l\u001b[?25hdone\n",
            "Collecting ffn>=0.3.5\n",
            "  Downloading ffn-0.3.6-py2.py3-none-any.whl (25 kB)\n",
            "Collecting pyprind>=2.11\n",
            "  Downloading PyPrind-2.11.3-py2.py3-none-any.whl (8.4 kB)\n",
            "Requirement already satisfied: scikit-learn>=0.15 in /usr/local/lib/python3.7/dist-packages (from ffn>=0.3.5->bt) (1.0.2)\n",
            "Requirement already satisfied: scipy>=0.15 in /usr/local/lib/python3.7/dist-packages (from ffn>=0.3.5->bt) (1.7.3)\n",
            "Requirement already satisfied: numpy>=1.5 in /usr/local/lib/python3.7/dist-packages (from ffn>=0.3.5->bt) (1.21.6)\n",
            "Requirement already satisfied: pandas-datareader>=0.2 in /usr/local/lib/python3.7/dist-packages (from ffn>=0.3.5->bt) (0.9.0)\n",
            "Requirement already satisfied: future>=0.15 in /usr/local/lib/python3.7/dist-packages (from ffn>=0.3.5->bt) (0.16.0)\n",
            "Requirement already satisfied: decorator>=4 in /usr/local/lib/python3.7/dist-packages (from ffn>=0.3.5->bt) (4.4.2)\n",
            "Requirement already satisfied: matplotlib>=1 in /usr/local/lib/python3.7/dist-packages (from ffn>=0.3.5->bt) (3.2.2)\n",
            "Requirement already satisfied: pandas>=0.19 in /usr/local/lib/python3.7/dist-packages (from ffn>=0.3.5->bt) (1.3.5)\n",
            "Requirement already satisfied: tabulate>=0.7.5 in /usr/local/lib/python3.7/dist-packages (from ffn>=0.3.5->bt) (0.8.10)\n",
            "Requirement already satisfied: kiwisolver>=1.0.1 in /usr/local/lib/python3.7/dist-packages (from matplotlib>=1->ffn>=0.3.5->bt) (1.4.4)\n",
            "Requirement already satisfied: python-dateutil>=2.1 in /usr/local/lib/python3.7/dist-packages (from matplotlib>=1->ffn>=0.3.5->bt) (2.8.2)\n",
            "Requirement already satisfied: pyparsing!=2.0.4,!=2.1.2,!=2.1.6,>=2.0.1 in /usr/local/lib/python3.7/dist-packages (from matplotlib>=1->ffn>=0.3.5->bt) (3.0.9)\n",
            "Requirement already satisfied: cycler>=0.10 in /usr/local/lib/python3.7/dist-packages (from matplotlib>=1->ffn>=0.3.5->bt) (0.11.0)\n",
            "Requirement already satisfied: typing-extensions in /usr/local/lib/python3.7/dist-packages (from kiwisolver>=1.0.1->matplotlib>=1->ffn>=0.3.5->bt) (4.1.1)\n",
            "Requirement already satisfied: pytz>=2017.3 in /usr/local/lib/python3.7/dist-packages (from pandas>=0.19->ffn>=0.3.5->bt) (2022.1)\n",
            "Requirement already satisfied: lxml in /usr/local/lib/python3.7/dist-packages (from pandas-datareader>=0.2->ffn>=0.3.5->bt) (4.9.1)\n",
            "Requirement already satisfied: requests>=2.19.0 in /usr/local/lib/python3.7/dist-packages (from pandas-datareader>=0.2->ffn>=0.3.5->bt) (2.23.0)\n",
            "Requirement already satisfied: six>=1.5 in /usr/local/lib/python3.7/dist-packages (from python-dateutil>=2.1->matplotlib>=1->ffn>=0.3.5->bt) (1.15.0)\n",
            "Requirement already satisfied: chardet<4,>=3.0.2 in /usr/local/lib/python3.7/dist-packages (from requests>=2.19.0->pandas-datareader>=0.2->ffn>=0.3.5->bt) (3.0.4)\n",
            "Requirement already satisfied: urllib3!=1.25.0,!=1.25.1,<1.26,>=1.21.1 in /usr/local/lib/python3.7/dist-packages (from requests>=2.19.0->pandas-datareader>=0.2->ffn>=0.3.5->bt) (1.24.3)\n",
            "Requirement already satisfied: idna<3,>=2.5 in /usr/local/lib/python3.7/dist-packages (from requests>=2.19.0->pandas-datareader>=0.2->ffn>=0.3.5->bt) (2.10)\n",
            "Requirement already satisfied: certifi>=2017.4.17 in /usr/local/lib/python3.7/dist-packages (from requests>=2.19.0->pandas-datareader>=0.2->ffn>=0.3.5->bt) (2022.6.15)\n",
            "Requirement already satisfied: joblib>=0.11 in /usr/local/lib/python3.7/dist-packages (from scikit-learn>=0.15->ffn>=0.3.5->bt) (1.1.0)\n",
            "Requirement already satisfied: threadpoolctl>=2.0.0 in /usr/local/lib/python3.7/dist-packages (from scikit-learn>=0.15->ffn>=0.3.5->bt) (3.1.0)\n",
            "Building wheels for collected packages: bt\n",
            "  Building wheel for bt (PEP 517) ... \u001b[?25l\u001b[?25hdone\n",
            "  Created wheel for bt: filename=bt-0.2.9-cp37-cp37m-linux_x86_64.whl size=765287 sha256=e51d392095aed53b7f73147baa532f488db181391c914e4586bb56a387846930\n",
            "  Stored in directory: /root/.cache/pip/wheels/c5/1a/3f/b56e6064b766c107f25e200969161c09ca6868cbfe0eaa31e4\n",
            "Successfully built bt\n",
            "Installing collected packages: pyprind, ffn, bt\n",
            "Successfully installed bt-0.2.9 ffn-0.3.6 pyprind-2.11.3\n",
            "Looking in indexes: https://pypi.org/simple, https://us-python.pkg.dev/colab-wheels/public/simple/\n",
            "Collecting finterstellar\n",
            "  Downloading finterstellar-0.1.19-py3-none-any.whl (12 kB)\n",
            "Requirement already satisfied: pandas>=1.1.4 in /usr/local/lib/python3.7/dist-packages (from finterstellar) (1.3.5)\n",
            "Collecting pandas-datareader>=0.10.0\n",
            "  Downloading pandas_datareader-0.10.0-py3-none-any.whl (109 kB)\n",
            "\u001b[K     |████████████████████████████████| 109 kB 3.3 MB/s \n",
            "\u001b[?25hRequirement already satisfied: requests>=2.23.0 in /usr/local/lib/python3.7/dist-packages (from finterstellar) (2.23.0)\n",
            "Requirement already satisfied: lxml>=4.2.6 in /usr/local/lib/python3.7/dist-packages (from finterstellar) (4.9.1)\n",
            "Requirement already satisfied: numpy>=1.19.3 in /usr/local/lib/python3.7/dist-packages (from finterstellar) (1.21.6)\n",
            "Requirement already satisfied: python-dateutil>=2.7.3 in /usr/local/lib/python3.7/dist-packages (from pandas>=1.1.4->finterstellar) (2.8.2)\n",
            "Requirement already satisfied: pytz>=2017.3 in /usr/local/lib/python3.7/dist-packages (from pandas>=1.1.4->finterstellar) (2022.1)\n",
            "Requirement already satisfied: six>=1.5 in /usr/local/lib/python3.7/dist-packages (from python-dateutil>=2.7.3->pandas>=1.1.4->finterstellar) (1.15.0)\n",
            "Requirement already satisfied: chardet<4,>=3.0.2 in /usr/local/lib/python3.7/dist-packages (from requests>=2.23.0->finterstellar) (3.0.4)\n",
            "Requirement already satisfied: idna<3,>=2.5 in /usr/local/lib/python3.7/dist-packages (from requests>=2.23.0->finterstellar) (2.10)\n",
            "Requirement already satisfied: urllib3!=1.25.0,!=1.25.1,<1.26,>=1.21.1 in /usr/local/lib/python3.7/dist-packages (from requests>=2.23.0->finterstellar) (1.24.3)\n",
            "Requirement already satisfied: certifi>=2017.4.17 in /usr/local/lib/python3.7/dist-packages (from requests>=2.23.0->finterstellar) (2022.6.15)\n",
            "Installing collected packages: pandas-datareader, finterstellar\n",
            "  Attempting uninstall: pandas-datareader\n",
            "    Found existing installation: pandas-datareader 0.9.0\n",
            "    Uninstalling pandas-datareader-0.9.0:\n",
            "      Successfully uninstalled pandas-datareader-0.9.0\n",
            "Successfully installed finterstellar-0.1.19 pandas-datareader-0.10.0\n"
          ]
        }
      ],
      "source": [
        "!pip install bt\n",
        "!pip install finterstellar"
      ]
    },
    {
      "cell_type": "code",
      "source": [
        "import bt\n",
        "import finterstellar as fs\n",
        "import pandas as pd\n",
        "%matplotlib inline"
      ],
      "metadata": {
        "id": "d5cjzr4pTJOZ"
      },
      "execution_count": 2,
      "outputs": []
    },
    {
      "cell_type": "code",
      "source": [
        "U = ['SPY','IEF','TLT','GLD','DBC']\n",
        "initial_capital = 100000.0"
      ],
      "metadata": {
        "id": "_KqtnOJxTZT8"
      },
      "execution_count": 3,
      "outputs": []
    },
    {
      "cell_type": "code",
      "source": [
        "df = pd.DataFrame()\n",
        "for ticker in U:\n",
        "  df[ticker] = fs.get_ohlc(ticker, start_date='2001-01-01')['Adj Close']\n",
        "df = df.dropna()\n",
        "df['CASH'] = 100.00\n",
        "df"
      ],
      "metadata": {
        "colab": {
          "base_uri": "https://localhost:8080/",
          "height": 455
        },
        "id": "OSVQeDY6Tc4e",
        "outputId": "1eefef02-7d6c-41ab-94f8-881caf9892dd"
      },
      "execution_count": 4,
      "outputs": [
        {
          "output_type": "execute_result",
          "data": {
            "text/plain": [
              "              SPY    IEF    TLT    GLD   DBC   CASH\n",
              "Date                                               \n",
              "2006-02-06  91.71  55.36  55.26  56.72 22.05 100.00\n",
              "2006-02-07  90.90  55.29  55.00  54.60 21.41 100.00\n",
              "2006-02-08  91.72  55.26  54.87  54.83 21.32 100.00\n",
              "2006-02-09  91.57  55.31  55.12  56.18 21.52 100.00\n",
              "2006-02-10  91.74  55.15  54.82  54.79 21.13 100.00\n",
              "...           ...    ...    ...    ...   ...    ...\n",
              "2022-07-28 406.07 104.95 117.54 163.64 25.99 100.00\n",
              "2022-07-29 411.99 104.99 117.22 164.10 26.11 100.00\n",
              "2022-08-01 410.77 105.60 120.04 165.03 25.58 100.00\n",
              "2022-08-02 408.06 104.14 117.50 164.05 25.45 100.00\n",
              "2022-08-03 414.45 104.57 119.35 164.45 25.23 100.00\n",
              "\n",
              "[4152 rows x 6 columns]"
            ],
            "text/html": [
              "\n",
              "  <div id=\"df-1a2e7542-0f1f-4aa6-8f50-53f021eff13d\">\n",
              "    <div class=\"colab-df-container\">\n",
              "      <div>\n",
              "<style scoped>\n",
              "    .dataframe tbody tr th:only-of-type {\n",
              "        vertical-align: middle;\n",
              "    }\n",
              "\n",
              "    .dataframe tbody tr th {\n",
              "        vertical-align: top;\n",
              "    }\n",
              "\n",
              "    .dataframe thead th {\n",
              "        text-align: right;\n",
              "    }\n",
              "</style>\n",
              "<table border=\"1\" class=\"dataframe\">\n",
              "  <thead>\n",
              "    <tr style=\"text-align: right;\">\n",
              "      <th></th>\n",
              "      <th>SPY</th>\n",
              "      <th>IEF</th>\n",
              "      <th>TLT</th>\n",
              "      <th>GLD</th>\n",
              "      <th>DBC</th>\n",
              "      <th>CASH</th>\n",
              "    </tr>\n",
              "    <tr>\n",
              "      <th>Date</th>\n",
              "      <th></th>\n",
              "      <th></th>\n",
              "      <th></th>\n",
              "      <th></th>\n",
              "      <th></th>\n",
              "      <th></th>\n",
              "    </tr>\n",
              "  </thead>\n",
              "  <tbody>\n",
              "    <tr>\n",
              "      <th>2006-02-06</th>\n",
              "      <td>91.71</td>\n",
              "      <td>55.36</td>\n",
              "      <td>55.26</td>\n",
              "      <td>56.72</td>\n",
              "      <td>22.05</td>\n",
              "      <td>100.00</td>\n",
              "    </tr>\n",
              "    <tr>\n",
              "      <th>2006-02-07</th>\n",
              "      <td>90.90</td>\n",
              "      <td>55.29</td>\n",
              "      <td>55.00</td>\n",
              "      <td>54.60</td>\n",
              "      <td>21.41</td>\n",
              "      <td>100.00</td>\n",
              "    </tr>\n",
              "    <tr>\n",
              "      <th>2006-02-08</th>\n",
              "      <td>91.72</td>\n",
              "      <td>55.26</td>\n",
              "      <td>54.87</td>\n",
              "      <td>54.83</td>\n",
              "      <td>21.32</td>\n",
              "      <td>100.00</td>\n",
              "    </tr>\n",
              "    <tr>\n",
              "      <th>2006-02-09</th>\n",
              "      <td>91.57</td>\n",
              "      <td>55.31</td>\n",
              "      <td>55.12</td>\n",
              "      <td>56.18</td>\n",
              "      <td>21.52</td>\n",
              "      <td>100.00</td>\n",
              "    </tr>\n",
              "    <tr>\n",
              "      <th>2006-02-10</th>\n",
              "      <td>91.74</td>\n",
              "      <td>55.15</td>\n",
              "      <td>54.82</td>\n",
              "      <td>54.79</td>\n",
              "      <td>21.13</td>\n",
              "      <td>100.00</td>\n",
              "    </tr>\n",
              "    <tr>\n",
              "      <th>...</th>\n",
              "      <td>...</td>\n",
              "      <td>...</td>\n",
              "      <td>...</td>\n",
              "      <td>...</td>\n",
              "      <td>...</td>\n",
              "      <td>...</td>\n",
              "    </tr>\n",
              "    <tr>\n",
              "      <th>2022-07-28</th>\n",
              "      <td>406.07</td>\n",
              "      <td>104.95</td>\n",
              "      <td>117.54</td>\n",
              "      <td>163.64</td>\n",
              "      <td>25.99</td>\n",
              "      <td>100.00</td>\n",
              "    </tr>\n",
              "    <tr>\n",
              "      <th>2022-07-29</th>\n",
              "      <td>411.99</td>\n",
              "      <td>104.99</td>\n",
              "      <td>117.22</td>\n",
              "      <td>164.10</td>\n",
              "      <td>26.11</td>\n",
              "      <td>100.00</td>\n",
              "    </tr>\n",
              "    <tr>\n",
              "      <th>2022-08-01</th>\n",
              "      <td>410.77</td>\n",
              "      <td>105.60</td>\n",
              "      <td>120.04</td>\n",
              "      <td>165.03</td>\n",
              "      <td>25.58</td>\n",
              "      <td>100.00</td>\n",
              "    </tr>\n",
              "    <tr>\n",
              "      <th>2022-08-02</th>\n",
              "      <td>408.06</td>\n",
              "      <td>104.14</td>\n",
              "      <td>117.50</td>\n",
              "      <td>164.05</td>\n",
              "      <td>25.45</td>\n",
              "      <td>100.00</td>\n",
              "    </tr>\n",
              "    <tr>\n",
              "      <th>2022-08-03</th>\n",
              "      <td>414.45</td>\n",
              "      <td>104.57</td>\n",
              "      <td>119.35</td>\n",
              "      <td>164.45</td>\n",
              "      <td>25.23</td>\n",
              "      <td>100.00</td>\n",
              "    </tr>\n",
              "  </tbody>\n",
              "</table>\n",
              "<p>4152 rows × 6 columns</p>\n",
              "</div>\n",
              "      <button class=\"colab-df-convert\" onclick=\"convertToInteractive('df-1a2e7542-0f1f-4aa6-8f50-53f021eff13d')\"\n",
              "              title=\"Convert this dataframe to an interactive table.\"\n",
              "              style=\"display:none;\">\n",
              "        \n",
              "  <svg xmlns=\"http://www.w3.org/2000/svg\" height=\"24px\"viewBox=\"0 0 24 24\"\n",
              "       width=\"24px\">\n",
              "    <path d=\"M0 0h24v24H0V0z\" fill=\"none\"/>\n",
              "    <path d=\"M18.56 5.44l.94 2.06.94-2.06 2.06-.94-2.06-.94-.94-2.06-.94 2.06-2.06.94zm-11 1L8.5 8.5l.94-2.06 2.06-.94-2.06-.94L8.5 2.5l-.94 2.06-2.06.94zm10 10l.94 2.06.94-2.06 2.06-.94-2.06-.94-.94-2.06-.94 2.06-2.06.94z\"/><path d=\"M17.41 7.96l-1.37-1.37c-.4-.4-.92-.59-1.43-.59-.52 0-1.04.2-1.43.59L10.3 9.45l-7.72 7.72c-.78.78-.78 2.05 0 2.83L4 21.41c.39.39.9.59 1.41.59.51 0 1.02-.2 1.41-.59l7.78-7.78 2.81-2.81c.8-.78.8-2.07 0-2.86zM5.41 20L4 18.59l7.72-7.72 1.47 1.35L5.41 20z\"/>\n",
              "  </svg>\n",
              "      </button>\n",
              "      \n",
              "  <style>\n",
              "    .colab-df-container {\n",
              "      display:flex;\n",
              "      flex-wrap:wrap;\n",
              "      gap: 12px;\n",
              "    }\n",
              "\n",
              "    .colab-df-convert {\n",
              "      background-color: #E8F0FE;\n",
              "      border: none;\n",
              "      border-radius: 50%;\n",
              "      cursor: pointer;\n",
              "      display: none;\n",
              "      fill: #1967D2;\n",
              "      height: 32px;\n",
              "      padding: 0 0 0 0;\n",
              "      width: 32px;\n",
              "    }\n",
              "\n",
              "    .colab-df-convert:hover {\n",
              "      background-color: #E2EBFA;\n",
              "      box-shadow: 0px 1px 2px rgba(60, 64, 67, 0.3), 0px 1px 3px 1px rgba(60, 64, 67, 0.15);\n",
              "      fill: #174EA6;\n",
              "    }\n",
              "\n",
              "    [theme=dark] .colab-df-convert {\n",
              "      background-color: #3B4455;\n",
              "      fill: #D2E3FC;\n",
              "    }\n",
              "\n",
              "    [theme=dark] .colab-df-convert:hover {\n",
              "      background-color: #434B5C;\n",
              "      box-shadow: 0px 1px 3px 1px rgba(0, 0, 0, 0.15);\n",
              "      filter: drop-shadow(0px 1px 2px rgba(0, 0, 0, 0.3));\n",
              "      fill: #FFFFFF;\n",
              "    }\n",
              "  </style>\n",
              "\n",
              "      <script>\n",
              "        const buttonEl =\n",
              "          document.querySelector('#df-1a2e7542-0f1f-4aa6-8f50-53f021eff13d button.colab-df-convert');\n",
              "        buttonEl.style.display =\n",
              "          google.colab.kernel.accessAllowed ? 'block' : 'none';\n",
              "\n",
              "        async function convertToInteractive(key) {\n",
              "          const element = document.querySelector('#df-1a2e7542-0f1f-4aa6-8f50-53f021eff13d');\n",
              "          const dataTable =\n",
              "            await google.colab.kernel.invokeFunction('convertToInteractive',\n",
              "                                                     [key], {});\n",
              "          if (!dataTable) return;\n",
              "\n",
              "          const docLinkHtml = 'Like what you see? Visit the ' +\n",
              "            '<a target=\"_blank\" href=https://colab.research.google.com/notebooks/data_table.ipynb>data table notebook</a>'\n",
              "            + ' to learn more about interactive tables.';\n",
              "          element.innerHTML = '';\n",
              "          dataTable['output_type'] = 'display_data';\n",
              "          await google.colab.output.renderOutput(dataTable, element);\n",
              "          const docLink = document.createElement('div');\n",
              "          docLink.innerHTML = docLinkHtml;\n",
              "          element.appendChild(docLink);\n",
              "        }\n",
              "      </script>\n",
              "    </div>\n",
              "  </div>\n",
              "  "
            ]
          },
          "metadata": {},
          "execution_count": 4
        }
      ]
    },
    {
      "cell_type": "markdown",
      "source": [
        "# all season 전략, SPY buy & hold"
      ],
      "metadata": {
        "id": "rIQybu9_ZEGb"
      }
    },
    {
      "cell_type": "code",
      "source": [
        "s1 = bt.Strategy('all_season',\n",
        "                [bt.algos.RunMonthly(run_on_end_of_period=True),\n",
        "                 bt.algos.SelectAll(),\n",
        "                 bt.algos.WeighSpecified(SPY=0.3,IEF=0.15,TLT=0.4,GLD=0.075,DBC=0.075),\n",
        "                 bt.algos.Rebalance(),\n",
        "                 ])\n",
        "bt1 = bt.Backtest(s1, df, initial_capital=initial_capital)"
      ],
      "metadata": {
        "id": "ZNlOU_G9U6GR"
      },
      "execution_count": 5,
      "outputs": []
    },
    {
      "cell_type": "code",
      "source": [
        "def buy_and_hold(data, name='buy_and_hold'):\n",
        "  s = bt.Strategy(name, [bt.algos.RunOnce(),\n",
        "                         bt.algos.SelectAll(),\n",
        "                         bt.algos.WeighEqually(),\n",
        "                         bt.algos.Rebalance()])\n",
        "  return bt.Backtest(s, data, initial_capital=initial_capital)"
      ],
      "metadata": {
        "id": "qsU2koLzVBuB"
      },
      "execution_count": 6,
      "outputs": []
    },
    {
      "cell_type": "code",
      "source": [
        "spy = buy_and_hold(df['SPY'].to_frame(), name='spy')"
      ],
      "metadata": {
        "id": "iuvlW27qVCFM"
      },
      "execution_count": 7,
      "outputs": []
    },
    {
      "cell_type": "markdown",
      "source": [
        "# all season 시즌제\n",
        "- 11월에서 4월 사이에만 사면 된다.\n",
        "  - 4월말에 매도, 10월말에 매수\n",
        "- 가격 변동이 없는 CASH 자산을 임의로 만들고, 5~10월에는 CASH를 100% 보유"
      ],
      "metadata": {
        "id": "cPPcWYjXZQGD"
      }
    },
    {
      "cell_type": "code",
      "source": [
        "class WeighAllSeasonSeason(bt.Algo):\n",
        "  def __init__(self):\n",
        "    super(WeighAllSeasonSeason, self).__init__()\n",
        "\n",
        "  def __call__(self, target):\n",
        "    current_month = target.universe[['CASH']].loc[target.now].name.month\n",
        "    if current_month >= 10 or current_month < 4: # invest\n",
        "      weights = pd.Series([0.3,0.15,0.4,0.075,0.075],\n",
        "                          ['SPY','IEF','TLT','GLD','DBC'])\n",
        "    else: # rest. all cash\n",
        "      weights = pd.Series([1.0], ['CASH'])\n",
        "\n",
        "    target.temp['weights'] = weights\n",
        "    target.temp['selected'] = list(weights.index)\n",
        "\n",
        "    return True"
      ],
      "metadata": {
        "id": "mysS75j3em31"
      },
      "execution_count": 8,
      "outputs": []
    },
    {
      "cell_type": "code",
      "source": [
        "s2 = bt.Strategy('all_season_season',\n",
        "                [bt.algos.RunMonthly(run_on_end_of_period=True),\n",
        "                 bt.algos.SelectAll(),\n",
        "                 WeighAllSeasonSeason(),\n",
        "                 #bt.algos.PrintTempData(),\n",
        "                 bt.algos.Rebalance(),\n",
        "                 ])\n",
        "bt2 = bt.Backtest(s2, df, initial_capital=initial_capital)"
      ],
      "metadata": {
        "id": "iL8MBX_iVR-d"
      },
      "execution_count": 9,
      "outputs": []
    },
    {
      "cell_type": "code",
      "source": [
        "class WeighAllSeasonSeasonSPYOnly(bt.Algo):\n",
        "  def __init__(self):\n",
        "    super(WeighAllSeasonSeasonSPYOnly, self).__init__()\n",
        "\n",
        "  def __call__(self, target):\n",
        "    current_month = target.universe[['CASH']].loc[target.now].name.month\n",
        "    if current_month >= 10 or current_month < 4: # invest\n",
        "      weights = pd.Series([0.3,0.15,0.4,0.075,0.075],\n",
        "                          ['SPY','IEF','TLT','GLD','DBC'])\n",
        "    else: # rest. SPY 대신 CASH\n",
        "      weights = pd.Series([0.3,0.15,0.4,0.075,0.075],\n",
        "                          ['CASH','IEF','TLT','GLD','DBC'])\n",
        "\n",
        "    target.temp['weights'] = weights\n",
        "    target.temp['selected'] = list(weights.index)\n",
        "\n",
        "    return True"
      ],
      "metadata": {
        "id": "hH-383SAwTiR"
      },
      "execution_count": 27,
      "outputs": []
    },
    {
      "cell_type": "code",
      "source": [
        "s3 = bt.Strategy('all_season_season_SPY_only',\n",
        "                [bt.algos.RunMonthly(run_on_end_of_period=True),\n",
        "                 #bt.algos.PrintDate(),\n",
        "                 bt.algos.SelectAll(),\n",
        "                 WeighAllSeasonSeasonSPYOnly(),\n",
        "                 #bt.algos.PrintTempData(),\n",
        "                 bt.algos.Rebalance(),\n",
        "                 ])\n",
        "bt3 = bt.Backtest(s3, df, initial_capital=initial_capital)"
      ],
      "metadata": {
        "id": "stVcgkgHwelf"
      },
      "execution_count": 28,
      "outputs": []
    },
    {
      "cell_type": "code",
      "source": [
        "res = bt.run(bt3, bt2, bt1, spy)"
      ],
      "metadata": {
        "id": "qaTnwRT3VY7r"
      },
      "execution_count": 29,
      "outputs": []
    },
    {
      "cell_type": "code",
      "source": [
        "res.display_monthly_returns()"
      ],
      "metadata": {
        "colab": {
          "base_uri": "https://localhost:8080/"
        },
        "id": "m0U9atvtjx3U",
        "outputId": "41dc8ee4-34f3-4eb0-bfcf-a2436c3cc07d"
      },
      "execution_count": 30,
      "outputs": [
        {
          "output_type": "stream",
          "name": "stdout",
          "text": [
            "  Year    Jan    Feb    Mar    Apr    May    Jun    Jul    Aug    Sep    Oct    Nov    Dec     YTD\n",
            "------  -----  -----  -----  -----  -----  -----  -----  -----  -----  -----  -----  -----  ------\n",
            "  2006   0      0.17  -1.06   0.6   -0.22   0.09   1.52   1.13   0.29   0.59   2.72  -1.18    4.7\n",
            "  2007   0      1.65  -0.39   1.99  -1.32  -0.56   1.98   0.99   1.6    2.04   1.41   0.42   10.19\n",
            "  2008   0.55   0.46   0.27   0.21  -0.75   2.35  -0.88   0.14   0.11  -3.96   4.82   6.85   10.21\n",
            "  2009  -8.18  -4.26   4.77  -0.47   0.2   -0.37   0.67   0.71   1.57  -0.27   3.93  -3.17   -5.43\n",
            "  2010  -0.34   1.4    0.78   2.77   1.95   2.82  -0.16   4.05  -0.01  -1.18  -0.69   0.94   12.89\n",
            "  2011  -0.75   2.43   0.31   3.09   1.22  -1.5    3.21   5.45   3.69  -0.71   0.86   0.98   19.62\n",
            "  2012   2.52   0.28  -1.2    1.99   2.73  -0.41   2.23   0.25  -0.75  -0.77   0.89  -1.13    6.72\n",
            "  2013   0.21   0.32   1.13   1.83  -3.75  -2.72  -0.16  -0.15  -0.07   0.66  -0.8   -0.52   -4.09\n",
            "  2014   1.95   2.47   0.22   1.28   1.12   0.5   -0.39   2.11  -2      0.84   1.53   0.62   10.63\n",
            "  2015   3.91  -1.25  -0.52  -0.65  -1.21  -1.86   0.61  -0      0.63  -0.06  -1.3   -1.18   -2.98\n",
            "  2016   1.31   2.23   2.22   0.91  -0.08   4.24   0.5   -0.74  -0.19  -2.22  -3.31   0.57    5.33\n",
            "  2017   1.26   2.14  -0.49   1.02   0.76   0.01   0.27   1.92  -1.25   0.2    1.27   1.48    8.89\n",
            "  2018   0.53  -2.82   0.71  -0.69   1.06  -0.13  -1      0.57  -1.12  -1.48   0.76   0.2    -3.42\n",
            "  2019   3.4    0.51   3.02   0.39   2.87   1.46   0.02   5.25  -1.4   -0.08   0.57   0.16   17.21\n",
            "  2020   3.27   0.18  -1.95   4.64   0.14   0.68   3.09  -1.84  -0.22  -1.83   4.33   1.51   12.36\n",
            "  2021  -1.91  -1.52  -1.23   3.59   0.93   1.65   2.07  -0.32  -1.25   1.46   0.32   1.25    4.98\n",
            "  2022  -2.99  -0.64  -0.88  -6.76  -0.71  -1.32   1.07   0.43   0      0      0      0     -11.39\n"
          ]
        }
      ]
    },
    {
      "cell_type": "code",
      "source": [
        "res.plot()"
      ],
      "metadata": {
        "id": "l12o2APSw9xI",
        "outputId": "ca9d3796-0741-484b-ebc3-42d08956a504",
        "colab": {
          "base_uri": "https://localhost:8080/",
          "height": 336
        }
      },
      "execution_count": 31,
      "outputs": [
        {
          "output_type": "execute_result",
          "data": {
            "text/plain": [
              "<matplotlib.axes._subplots.AxesSubplot at 0x7f2a73421150>"
            ]
          },
          "metadata": {},
          "execution_count": 31
        },
        {
          "output_type": "display_data",
          "data": {
            "text/plain": [
              "<Figure size 1080x360 with 1 Axes>"
            ],
            "image/png": "[encoded data removed]"
          },
          "metadata": {
            "needs_background": "light"
          }
        }
      ]
    },
    {
      "cell_type": "code",
      "source": [
        "res.display()"
      ],
      "metadata": {
        "colab": {
          "base_uri": "https://localhost:8080/"
        },
        "id": "xWfh4MiDVbw6",
        "outputId": "856f9c6d-905c-473d-bf8a-c867f6464192"
      },
      "execution_count": 32,
      "outputs": [
        {
          "output_type": "stream",
          "name": "stdout",
          "text": [
            "Stat                 all_season_season_SPY_only    all_season_season    all_season    spy\n",
            "-------------------  ----------------------------  -------------------  ------------  ----------\n",
            "Start                2006-02-05                    2006-02-05           2006-02-05    2006-02-05\n",
            "End                  2022-08-03                    2022-08-03           2022-08-03    2022-08-03\n",
            "Risk-free rate       0.00%                         0.00%                0.00%         0.00%\n",
            "\n",
            "Total Return         142.07%                       69.05%               189.41%       351.79%\n",
            "Daily Sharpe         0.76                          0.60                 0.88          0.56\n",
            "Daily Sortino        1.24                          0.90                 1.41          0.86\n",
            "CAGR                 5.51%                         3.24%                6.66%         9.58%\n",
            "Max Drawdown         -14.71%                       -13.88%              -17.15%       -55.17%\n",
            "Calmar Ratio         0.37                          0.23                 0.39          0.17\n",
            "\n",
            "MTD                  0.43%                         0.00%                0.61%         0.60%\n",
            "3m                   0.10%                         0.00%                0.18%         -0.03%\n",
            "6m                   -8.22%                        -7.70%               -7.84%        -6.51%\n",
            "YTD                  -11.39%                       -10.90%              -11.03%       -12.09%\n",
            "1Y                   -10.40%                       -9.50%               -8.83%        -4.72%\n",
            "3Y (ann.)            2.23%                         0.43%                5.51%         15.33%\n",
            "5Y (ann.)            4.03%                         1.99%                6.36%         12.85%\n",
            "10Y (ann.)           3.31%                         2.67%                5.41%         13.65%\n",
            "Since Incep. (ann.)  5.51%                         3.24%                6.66%         9.58%\n",
            "\n",
            "Daily Sharpe         0.76                          0.60                 0.88          0.56\n",
            "Daily Sortino        1.24                          0.90                 1.41          0.86\n",
            "Daily Mean (ann.)    5.64%                         3.34%                6.75%         11.14%\n",
            "Daily Vol (ann.)     7.44%                         5.57%                7.68%         19.94%\n",
            "Daily Skew           -0.31                         -0.54                -0.40         -0.09\n",
            "Daily Kurt           5.15                          17.57                5.84          14.75\n",
            "Best Day             3.02%                         3.02%                3.19%         14.51%\n",
            "Worst Day            -4.36%                        -4.36%               -4.36%        -10.94%\n",
            "\n",
            "Monthly Sharpe       0.82                          0.61                 0.90          0.67\n",
            "Monthly Sortino      1.51                          1.00                 1.53          1.11\n",
            "Monthly Mean (ann.)  5.59%                         3.33%                6.73%         10.27%\n",
            "Monthly Vol (ann.)   6.79%                         5.48%                7.47%         15.26%\n",
            "Monthly Skew         -0.29                         -0.38                -0.81         -0.63\n",
            "Monthly Kurt         2.71                          7.76                 2.97          1.36\n",
            "Best Month           6.85%                         6.85%                6.85%         12.70%\n",
            "Worst Month          -8.18%                        -8.19%               -8.90%        -16.51%\n",
            "\n",
            "Yearly Sharpe        0.65                          0.53                 0.78          0.59\n",
            "Yearly Sortino       1.81                          1.08                 2.44          1.12\n",
            "Yearly Mean          5.73%                         3.46%                6.79%         10.62%\n",
            "Yearly Vol           8.83%                         6.57%                8.76%         18.07%\n",
            "Yearly Skew          -0.40                         -0.67                -0.41         -1.20\n",
            "Yearly Kurt          -0.69                         0.46                 -0.76         1.87\n",
            "Best Year            19.62%                        13.68%               18.85%        32.30%\n",
            "Worst Year           -11.39%                       -10.90%              -11.03%       -36.78%\n",
            "\n",
            "Avg. Drawdown        -1.37%                        -1.21%               -1.19%        -1.73%\n",
            "Avg. Drawdown Days   32.03                         41.53                26.37         21.18\n",
            "Avg. Up Month        1.56%                         1.63%                1.68%         3.19%\n",
            "Avg. Down Month      -1.28%                        -0.41%               -1.68%        -4.03%\n",
            "Win Year %           68.75%                        75.00%               62.50%        81.25%\n",
            "Win 12m %            81.38%                        92.02%               82.45%        82.45%\n"
          ]
        }
      ]
    },
    {
      "cell_type": "code",
      "source": [
        ""
      ],
      "metadata": {
        "id": "8z4FvWJ_HCmF"
      },
      "execution_count": 12,
      "outputs": []
    }
  ]
}